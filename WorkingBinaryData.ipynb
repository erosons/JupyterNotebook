{
 "cells": [
  {
   "cell_type": "markdown",
   "metadata": {},
   "source": [
    "# <b>Streaming data and buffers</b>"
   ]
  },
  {
   "cell_type": "markdown",
   "metadata": {},
   "source": [
    "Python io module allows us to manage the file-related input and output operations. The advantage of using the IO module is that the classes and functions available allows us to extend the functionality to enable writing to the Unicode data.\n"
   ]
  },
  {
   "cell_type": "code",
   "execution_count": 25,
   "metadata": {},
   "outputs": [
    {
     "data": {
      "text/plain": [
       "bytes"
      ]
     },
     "execution_count": 25,
     "metadata": {},
     "output_type": "execute_result"
    }
   ],
   "source": [
    "# Creating a byte types and example\n",
    "\n",
    "mybinarytext=b'Hello World!'\n",
    "\n",
    "type(mybinarytext)\n"
   ]
  },
  {
   "cell_type": "code",
   "execution_count": 26,
   "metadata": {},
   "outputs": [
    {
     "name": "stdout",
     "output_type": "stream",
     "text": [
      "b'\\x00\\x00\\x00\\x00\\x00\\x00\\x00\\x00\\x00\\x00\\x00\\x00\\x00\\x00\\x00\\x00\\x00\\x00\\x00\\x00\\x00\\x00\\x00\\x00\\x00\\x00\\x00\\x00\\x00\\x00\\x00\\x00'\n",
      "b'\\x00\\x01\\x02\\x03'\n",
      "ÿ\n",
      "255\n",
      "<class 'int'>\n",
      "255\t240\n",
      "my data bytes is:11110000 ,my data bytes is:11111111\n",
      "my data bytes is:240 , my data bytes is:ff\n",
      "my data bytes is:00f0\n",
      "my data bytes is:000000ff\n"
     ]
    }
   ],
   "source": [
    "#creating a empty 32bytes..\n",
    "\n",
    "\n",
    "print(bytes(32))\n",
    "\n",
    "#creating a 4bytes\n",
    "\n",
    "x=b'\\x00\\x01\\x02\\x03'\n",
    "print(x)\n",
    "\n",
    "#Using an ASCII representaion\n",
    "\n",
    "print('\\xFF')\n",
    "\n",
    "# coverting a value to an interger\n",
    "print(ord(b'\\xFF'))\n",
    "print(type(ord(b'\\xFF')))\n",
    "\n",
    "# print the bytes indexes\n",
    "y=b'\\xf0\\xff'\n",
    "print(y[1],y[0],sep=\"\\t\")\n",
    "\n",
    "#print out the ACSII bytes representation\n",
    "print(\"my data bytes is:{:b}\".format(y[0]), \",my data bytes is:{:b}\".format(y[1]))\n",
    "print(\"my data bytes is:{:d}\".format(y[0]), \", my data bytes is:{:x}\".format(y[1]))\n",
    "print(\"my data bytes is:{:04x}\".format(y[0]))\n",
    "print(\"my data bytes is:{:08x}\".format(y[1]))\n",
    "\n",
    "#looping through the a binary number\n"
   ]
  },
  {
   "cell_type": "markdown",
   "metadata": {},
   "source": [
    "## <b>io.BytesIO()  Class</b>\n",
    "A data stream as the name suggests is a stream of data. We can visualize this as the stream of water flowing from one end to another. \n",
    "\n",
    "Each droplet of water is the packet of data flowing in the stream and we can resize this data packet as per our needs.\n",
    "If we have a massive file to deal with, we can process the file’s data one packet at a time instead of loading the entire file in the memory. Also, we can write to a file or data store one packet at a time.\n",
    "\n",
    "Buffer, on the other hand, is a temporary region of volatile memory (RAM) where data can be stored before consuming it. We can read from or write to a data buffer using streams.\n"
   ]
  },
  {
   "cell_type": "code",
   "execution_count": 1,
   "metadata": {},
   "outputs": [],
   "source": [
    "import io"
   ]
  },
  {
   "cell_type": "code",
   "execution_count": 2,
   "metadata": {},
   "outputs": [
    {
     "data": {
      "text/plain": [
       "_io.BytesIO"
      ]
     },
     "execution_count": 2,
     "metadata": {},
     "output_type": "execute_result"
    }
   ],
   "source": [
    "bio=io.BytesIO()\n",
    "\n",
    "type(bio)"
   ]
  },
  {
   "cell_type": "code",
   "execution_count": 3,
   "metadata": {},
   "outputs": [
    {
     "data": {
      "text/plain": [
       "6"
      ]
     },
     "execution_count": 3,
     "metadata": {},
     "output_type": "execute_result"
    }
   ],
   "source": [
    "bio.write(b'Hello\\n')"
   ]
  },
  {
   "cell_type": "markdown",
   "metadata": {},
   "source": [
    "Writing to a buffer as buffer only under bytes, \n",
    "write string, number to buffer by encoding the data to ascii codes or Utf-8"
   ]
  },
  {
   "cell_type": "code",
   "execution_count": 4,
   "metadata": {},
   "outputs": [
    {
     "data": {
      "text/plain": [
       "5"
      ]
     },
     "execution_count": 4,
     "metadata": {},
     "output_type": "execute_result"
    }
   ],
   "source": [
    "bio.write(\"hello\".encode(\"ascii\"))"
   ]
  },
  {
   "cell_type": "code",
   "execution_count": 5,
   "metadata": {},
   "outputs": [
    {
     "data": {
      "text/plain": [
       "0"
      ]
     },
     "execution_count": 5,
     "metadata": {},
     "output_type": "execute_result"
    }
   ],
   "source": [
    "# The cursor is moved to the begining of data for reading\n",
    "bio.seek(0)"
   ]
  },
  {
   "cell_type": "markdown",
   "metadata": {},
   "source": [
    "This first 5 bytes of the data and when this called again it reads the next five bytes of the data"
   ]
  },
  {
   "cell_type": "code",
   "execution_count": 6,
   "metadata": {},
   "outputs": [
    {
     "data": {
      "text/plain": [
       "b'Hello'"
      ]
     },
     "execution_count": 6,
     "metadata": {},
     "output_type": "execute_result"
    }
   ],
   "source": [
    "bio.read(5)"
   ]
  },
  {
   "cell_type": "code",
   "execution_count": 7,
   "metadata": {},
   "outputs": [
    {
     "data": {
      "text/plain": [
       "b'\\nhell'"
      ]
     },
     "execution_count": 7,
     "metadata": {},
     "output_type": "execute_result"
    }
   ],
   "source": [
    "bio.read(5)"
   ]
  },
  {
   "cell_type": "markdown",
   "metadata": {},
   "source": [
    "And the out type of a buffer are immutable"
   ]
  },
  {
   "cell_type": "code",
   "execution_count": 17,
   "metadata": {},
   "outputs": [
    {
     "data": {
      "text/plain": [
       "bytes"
      ]
     },
     "execution_count": 17,
     "metadata": {},
     "output_type": "execute_result"
    }
   ],
   "source": [
    "type(_)"
   ]
  },
  {
   "cell_type": "markdown",
   "metadata": {},
   "source": [
    "But if we want the data writen out of buffer accessible, then we use getbuffer()\n"
   ]
  },
  {
   "cell_type": "code",
   "execution_count": 20,
   "metadata": {},
   "outputs": [
    {
     "data": {
      "text/plain": [
       "memoryview"
      ]
     },
     "execution_count": 20,
     "metadata": {},
     "output_type": "execute_result"
    }
   ],
   "source": [
    "bio.getbuffer()\n",
    "type(bio.getbuffer())"
   ]
  },
  {
   "cell_type": "code",
   "execution_count": 21,
   "metadata": {},
   "outputs": [],
   "source": [
    "buff=bio.getbuffer()\n",
    "buff[0]=255"
   ]
  },
  {
   "cell_type": "code",
   "execution_count": 22,
   "metadata": {},
   "outputs": [
    {
     "data": {
      "text/plain": [
       "0"
      ]
     },
     "execution_count": 22,
     "metadata": {},
     "output_type": "execute_result"
    }
   ],
   "source": [
    "bio.seek(0)"
   ]
  },
  {
   "cell_type": "code",
   "execution_count": 23,
   "metadata": {},
   "outputs": [
    {
     "data": {
      "text/plain": [
       "b'\\xff'"
      ]
     },
     "execution_count": 23,
     "metadata": {},
     "output_type": "execute_result"
    }
   ],
   "source": [
    "#Read out buffer mutable read returns a hexidecimal\n",
    "bio.read(1)"
   ]
  },
  {
   "cell_type": "code",
   "execution_count": 34,
   "metadata": {},
   "outputs": [
    {
     "name": "stdout",
     "output_type": "stream",
     "text": [
      "11111111,000000ff,\"\t\"\n",
      "00001111,0000000f,\"\t\"\n",
      "00000001,00000001,\"\t\"\n"
     ]
    }
   ],
   "source": [
    "print(f'{255:08b},{255:08x},\"\\t\"')\n",
    "print(f'{15:08b},{15:08x},\"\\t\"')\n",
    "print(f'{1:08b},{1:08x},\"\\t\"')"
   ]
  },
  {
   "cell_type": "markdown",
   "metadata": {},
   "source": [
    "### <b> Bitwise Operators</b>"
   ]
  },
  {
   "cell_type": "markdown",
   "metadata": {},
   "source": [
    "\"\"\"\n",
    "EXAMPLE of binary calculation and Hexidecimal calculation\n",
    "\"\"\"\n",
    "\n",
    "- and         denoted by &(ampersand)\n",
    "- OR.         denoted by |\n",
    "- XOR.        Denoted by ^(Caret)\n",
    "- Compliment  denoted by ~\n",
    "\n",
    "### <b>AND => &</b>\n",
    "\n",
    "<table>\n",
    "    \n",
    " <tr>\n",
    "        <th><b>X</b></th>\n",
    "        <th><b>Y</b></th>\n",
    "        <th><b>Result</b></th>\n",
    "  </tr>\n",
    "  <tr>\n",
    "    <td>1</td>\n",
    "    <td>0</td>\n",
    "    <td>0</td>\n",
    "   </tr>\n",
    "<tr>\n",
    "    <td>1</td>\n",
    "    <td>0</td>\n",
    "    <td>0</td>\n",
    "   </tr\n",
    "    \n",
    "  <tr>\n",
    "    <td>1</td>\n",
    "    <td>1</td>\n",
    "    <td>1</td>\n",
    " </tr>\n",
    "</table>\n",
    "\n",
    "### <b>OR => |</b>\n",
    "\n",
    "<table>\n",
    "    \n",
    " <tr>\n",
    "        <th><b>X</b></th>\n",
    "        <th><b>Y</b></th>\n",
    "        <th><b>Result</b></th>\n",
    "  </tr>\n",
    "  <tr>\n",
    "    <td>1</td>\n",
    "    <td>0</td>\n",
    "    <td>1</td>\n",
    "   </tr>\n",
    "<tr>\n",
    "    <td>0</td>\n",
    "    <td>1</td>\n",
    "    <td>0</td>\n",
    "   </tr>\n",
    "  <tr>\n",
    "    <td>1</td>\n",
    "    <td>1</td>\n",
    "    <td>1</td>\n",
    " </tr>\n",
    "</table>\n",
    "\n",
    "\n",
    "### <b>XOR => ^</b>\n",
    "\n",
    "<table>\n",
    "    \n",
    " <tr>\n",
    "        <th><b>X</b></th>\n",
    "        <th><b>Y</b></th>\n",
    "        <th><b>Result</b></th>\n",
    "  </tr>\n",
    "  <tr>\n",
    "    <td>1</td>\n",
    "    <td>0</td>\n",
    "    <td>1</td>\n",
    "   </tr>\n",
    "<tr>\n",
    "    <td>0</td>\n",
    "    <td>1</td>\n",
    "    <td>1</td>\n",
    "   </tr>\n",
    "  <tr>\n",
    "    <td>1</td>\n",
    "    <td>1</td>\n",
    "    <td>0</td>\n",
    " </tr>\n",
    "</table>\n",
    "\n",
    "\n",
    "### <b>Complimet => ^</b>\n",
    "\n",
    "<table>\n",
    "    \n",
    " <tr>\n",
    "        <th><b>X</b></th>\n",
    "        <th><b>Result</b></th>\n",
    "  </tr>\n",
    "  <tr>\n",
    "    <td>1</td>\n",
    "    <td>0</td>\n",
    "   </tr>\n",
    "<tr>\n",
    "    <td>0</td>\n",
    "    <td>1</td>\n",
    " \n",
    "   </tr>\n",
    "</table>\n",
    "\n"
   ]
  },
  {
   "cell_type": "markdown",
   "metadata": {},
   "source": [
    "Performing Bitwise Calculation"
   ]
  },
  {
   "cell_type": "code",
   "execution_count": 3,
   "metadata": {},
   "outputs": [],
   "source": [
    "def printbinary(x):\n",
    "    x=print(f'{x:08b}')\n",
    "    return x"
   ]
  },
  {
   "cell_type": "markdown",
   "metadata": {},
   "source": [
    "####  <b>Note that only 255 makes a full binary bytes</b>"
   ]
  },
  {
   "cell_type": "code",
   "execution_count": 45,
   "metadata": {},
   "outputs": [
    {
     "name": "stdout",
     "output_type": "stream",
     "text": [
      "00001111\n",
      "11111111\n",
      "None None \t\n"
     ]
    }
   ],
   "source": [
    "print(printbinary(15),printbinary(255),\"\\t\")"
   ]
  },
  {
   "cell_type": "code",
   "execution_count": 47,
   "metadata": {},
   "outputs": [
    {
     "name": "stdout",
     "output_type": "stream",
     "text": [
      "00001111\n"
     ]
    }
   ],
   "source": [
    "printbinary(255 & 15)"
   ]
  },
  {
   "cell_type": "code",
   "execution_count": 48,
   "metadata": {},
   "outputs": [
    {
     "name": "stdout",
     "output_type": "stream",
     "text": [
      "11111111\n"
     ]
    }
   ],
   "source": [
    "printbinary(255|15)"
   ]
  },
  {
   "cell_type": "code",
   "execution_count": 49,
   "metadata": {},
   "outputs": [
    {
     "name": "stdout",
     "output_type": "stream",
     "text": [
      "11110000\n"
     ]
    }
   ],
   "source": [
    "printbinary(255^15)"
   ]
  },
  {
   "cell_type": "code",
   "execution_count": 83,
   "metadata": {},
   "outputs": [
    {
     "name": "stdout",
     "output_type": "stream",
     "text": [
      "-256\n"
     ]
    },
    {
     "data": {
      "text/plain": [
       "'\\nThis is called ones complimenent\\n- tidel performs a flip operations transforming postive to negative and vice-versa multiplying them by -1\\n- What happens here is 256*-1-1\\nPerform\\n'"
      ]
     },
     "execution_count": 83,
     "metadata": {},
     "output_type": "execute_result"
    }
   ],
   "source": [
    "print(~255)\n",
    "\"\"\"\n",
    "This is called ones complimenent\n",
    "- tidel performs a flip operations transforming postive to negative and vice-versa multiplying them by -1\n",
    "- What happens here is 256*-1-1\n",
    "Perform\n",
    "\"\"\""
   ]
  },
  {
   "cell_type": "markdown",
   "metadata": {},
   "source": [
    "### </b>Application of binary operations</b>\n",
    "- A practical example of when you may actually use this is to check if a specific bit is turned\n",
    "\n",
    "For example, you could pack a <b> boolean variables</b> into a single byte.\n",
    "\n",
    "- Let's say you're making a video game and you need to store data efficiently.\n",
    "\n",
    "- You could use one bit to represent whether it's daytime or nighttime.\n",
    "\n",
    "- Another bit can be whether it's raining or not.\n",
    "\n",
    "- Another bit can store whether a character is male or female.\n",
    "\n",
    "- Another for hot or cold rain or snow and so on.\n",
    "\n",
    "- If you want to check, if one specific bit is on, you can use the end operation to check that."
   ]
  },
  {
   "cell_type": "markdown",
   "metadata": {},
   "source": [
    "Assuming we want check weather the third is turned set as can see the third it is set"
   ]
  },
  {
   "cell_type": "code",
   "execution_count": 53,
   "metadata": {},
   "outputs": [
    {
     "name": "stdout",
     "output_type": "stream",
     "text": [
      "00000100\n"
     ]
    }
   ],
   "source": [
    "printbinary(4)"
   ]
  },
  {
   "cell_type": "markdown",
   "metadata": {},
   "source": [
    "Perform AND bitwise operations with function above"
   ]
  },
  {
   "cell_type": "code",
   "execution_count": 55,
   "metadata": {},
   "outputs": [
    {
     "name": "stdout",
     "output_type": "stream",
     "text": [
      "00000100\n"
     ]
    }
   ],
   "source": [
    "printbinary(4&12)"
   ]
  },
  {
   "cell_type": "code",
   "execution_count": 57,
   "metadata": {},
   "outputs": [
    {
     "name": "stdout",
     "output_type": "stream",
     "text": [
      "00001100\n"
     ]
    }
   ],
   "source": [
    "printbinary(12)"
   ]
  },
  {
   "cell_type": "code",
   "execution_count": 59,
   "metadata": {},
   "outputs": [
    {
     "name": "stdout",
     "output_type": "stream",
     "text": [
      "00000000\n"
     ]
    }
   ],
   "source": [
    "printbinary(4&99)"
   ]
  },
  {
   "cell_type": "code",
   "execution_count": 62,
   "metadata": {},
   "outputs": [
    {
     "name": "stdout",
     "output_type": "stream",
     "text": [
      "00000000\n"
     ]
    }
   ],
   "source": [
    "printbinary(4&25)"
   ]
  },
  {
   "cell_type": "code",
   "execution_count": 63,
   "metadata": {},
   "outputs": [
    {
     "name": "stdout",
     "output_type": "stream",
     "text": [
      "00011001\n"
     ]
    }
   ],
   "source": [
    "printbinary(25)"
   ]
  },
  {
   "cell_type": "markdown",
   "metadata": {},
   "source": [
    "<b> We could write a function that check if a bitwise operation returns 4 </b>"
   ]
  },
  {
   "cell_type": "code",
   "execution_count": 65,
   "metadata": {},
   "outputs": [],
   "source": [
    "def is_thirsbit_set(x):\n",
    "     return(x & 4)==4"
   ]
  },
  {
   "cell_type": "code",
   "execution_count": 66,
   "metadata": {},
   "outputs": [
    {
     "data": {
      "text/plain": [
       "True"
      ]
     },
     "execution_count": 66,
     "metadata": {},
     "output_type": "execute_result"
    }
   ],
   "source": [
    "is_thirsbit_set(12)"
   ]
  },
  {
   "cell_type": "code",
   "execution_count": 67,
   "metadata": {},
   "outputs": [
    {
     "data": {
      "text/plain": [
       "False"
      ]
     },
     "execution_count": 67,
     "metadata": {},
     "output_type": "execute_result"
    }
   ],
   "source": [
    "is_thirsbit_set(99)"
   ]
  },
  {
   "cell_type": "markdown",
   "metadata": {},
   "source": [
    "<b>Performing OR bitwise operations</b>"
   ]
  },
  {
   "cell_type": "code",
   "execution_count": 71,
   "metadata": {},
   "outputs": [
    {
     "name": "stdout",
     "output_type": "stream",
     "text": [
      "00001100\n"
     ]
    }
   ],
   "source": [
    "printbinary(12)"
   ]
  },
  {
   "cell_type": "code",
   "execution_count": 72,
   "metadata": {},
   "outputs": [
    {
     "name": "stdout",
     "output_type": "stream",
     "text": [
      "00000001\n"
     ]
    }
   ],
   "source": [
    "printbinary(1)"
   ]
  },
  {
   "cell_type": "code",
   "execution_count": 73,
   "metadata": {},
   "outputs": [
    {
     "name": "stdout",
     "output_type": "stream",
     "text": [
      "00001101\n"
     ]
    }
   ],
   "source": [
    "printbinary(12|1)"
   ]
  },
  {
   "cell_type": "code",
   "execution_count": 74,
   "metadata": {},
   "outputs": [
    {
     "name": "stdout",
     "output_type": "stream",
     "text": [
      "11111111\n"
     ]
    }
   ],
   "source": [
    "printbinary(12|255)"
   ]
  },
  {
   "cell_type": "markdown",
   "metadata": {},
   "source": [
    "<b>Perform XOR bitwise operations</b>"
   ]
  },
  {
   "cell_type": "code",
   "execution_count": 77,
   "metadata": {},
   "outputs": [
    {
     "name": "stdout",
     "output_type": "stream",
     "text": [
      "11110011\n"
     ]
    }
   ],
   "source": [
    "printbinary(12^255)"
   ]
  },
  {
   "cell_type": "code",
   "execution_count": 78,
   "metadata": {},
   "outputs": [
    {
     "name": "stdout",
     "output_type": "stream",
     "text": [
      "00001101\n"
     ]
    }
   ],
   "source": [
    "printbinary(1^12)"
   ]
  },
  {
   "cell_type": "markdown",
   "metadata": {},
   "source": [
    "#### <b>Perform Bit shifting</b>"
   ]
  },
  {
   "cell_type": "code",
   "execution_count": 84,
   "metadata": {},
   "outputs": [
    {
     "name": "stdout",
     "output_type": "stream",
     "text": [
      "00001111\n"
     ]
    }
   ],
   "source": [
    "printbinary(15)"
   ]
  },
  {
   "cell_type": "markdown",
   "metadata": {},
   "source": [
    "<b> Left Shifting</b> This potentially result in loss of data"
   ]
  },
  {
   "cell_type": "code",
   "execution_count": 85,
   "metadata": {},
   "outputs": [
    {
     "name": "stdout",
     "output_type": "stream",
     "text": [
      "00011110\n"
     ]
    }
   ],
   "source": [
    "printbinary(15<<1)"
   ]
  },
  {
   "cell_type": "code",
   "execution_count": 86,
   "metadata": {},
   "outputs": [
    {
     "name": "stdout",
     "output_type": "stream",
     "text": [
      "00111100\n"
     ]
    }
   ],
   "source": [
    "printbinary(15<<2)"
   ]
  },
  {
   "cell_type": "code",
   "execution_count": 87,
   "metadata": {},
   "outputs": [
    {
     "name": "stdout",
     "output_type": "stream",
     "text": [
      "01111000\n"
     ]
    }
   ],
   "source": [
    "printbinary(15<<3)"
   ]
  },
  {
   "cell_type": "markdown",
   "metadata": {},
   "source": [
    "<b>Right Shifting </b> This acn potentiall result in loss of data"
   ]
  },
  {
   "cell_type": "code",
   "execution_count": 90,
   "metadata": {},
   "outputs": [
    {
     "name": "stdout",
     "output_type": "stream",
     "text": [
      "01111111\n"
     ]
    }
   ],
   "source": [
    "printbinary(255>>1)"
   ]
  },
  {
   "cell_type": "code",
   "execution_count": 91,
   "metadata": {},
   "outputs": [
    {
     "name": "stdout",
     "output_type": "stream",
     "text": [
      "00111111\n"
     ]
    }
   ],
   "source": [
    "printbinary(255>>2)"
   ]
  },
  {
   "cell_type": "code",
   "execution_count": 92,
   "metadata": {},
   "outputs": [
    {
     "name": "stdout",
     "output_type": "stream",
     "text": [
      "00011111\n"
     ]
    }
   ],
   "source": [
    "printbinary(255>>3)"
   ]
  },
  {
   "cell_type": "markdown",
   "metadata": {},
   "source": [
    "### <b>CONVSERSION BETWEEN DATA TYPES</b>\n",
    "- you have an integer or maybe you have a hexadecimal string that you need to convert into actual bytes.\n",
    "- hexidecimal-FFA03A\n",
    "- Binary string (1111010)\n",
    "- Integer (25)\n",
    "- Little endian architecture of a computer this starts from the bigest number to smallest \n",
    "<table>\n",
    "    \n",
    " <tr>\n",
    "        <th><b>33</b></th>\n",
    "        <th><b>22</b></th>\n",
    "        <th><b>11</b></th>\n",
    "     <th><b>00</b></th>\n",
    "  </tr></table>\n",
    " \n",
    " \n",
    "- Big endian architecture of a computer starts from the bigest number to smallest \n",
    "<table>\n",
    "    \n",
    " <tr>\n",
    "        <th><b>00</b></th>\n",
    "        <th><b>11</b></th>\n",
    "        <th><b>22</b></th>\n",
    "     <th><b>33</b></th>\n",
    "  </tr></table>\n",
    "  \n",
    "And you need to shift between these datatypes to fit a Scenario"
   ]
  },
  {
   "cell_type": "markdown",
   "metadata": {},
   "source": [
    "<table>\n",
    "<tr>\n",
    "        <th><b>datatype</b></th>\n",
    "        <th><b>Description</b></th>\n",
    "  </tr> \n",
    "<tr><td>byte\t1 bytes</td> <td>\tStores whole numbers from -128 to 127</td> </tr>\n",
    "<tr><td>short\t2 bytes</td><td>\tStores whole numbers from -32,768 to 32,767 <td></tr>\n",
    "<tr><td>int\t4 bytes      </td><td>  Stores whole numbers from -2,147,483,648 to 2,147,483,647<td></tr>\n",
    "<tr><td>long\t8 bytes</td><td>\tStores whole numbers from -9,223,372,036,854,775,808 to 9,223,372,036,854,775,807<td></tr>\n",
    "<tr><td>float\t4 bytes</td><td>\tStores fractional numbers. Sufficient for storing 6 to 7 decimal digits<td></tr>\n",
    "<tr><td>double\t8 bytes</td><td>\tStores fractional numbers. Sufficient for storing 15 decimal digits<td></tr>\n",
    "<tr><td>boolean\t1 bit</td><td>\tStores true or false values<td></tr>\n",
    "<tr><td>char\t2 bytes</td><td>\tStores a single character/letter or ASCII values<td></tr>\n",
    "</table>"
   ]
  },
  {
   "cell_type": "code",
   "execution_count": 5,
   "metadata": {},
   "outputs": [
    {
     "data": {
      "text/plain": [
       "b'\\x10'"
      ]
     },
     "execution_count": 5,
     "metadata": {},
     "output_type": "execute_result"
    }
   ],
   "source": [
    "#int to bytes\n",
    "i=16\n",
    "i.to_bytes(1,byteorder=\"big\",signed=True)"
   ]
  },
  {
   "cell_type": "code",
   "execution_count": 8,
   "metadata": {},
   "outputs": [
    {
     "data": {
      "text/plain": [
       "b'\\x00\\x00\\x00\\x02\\x18q\\x1a\\x00'"
      ]
     },
     "execution_count": 8,
     "metadata": {},
     "output_type": "execute_result"
    }
   ],
   "source": [
    "f=9000000000\n",
    "f.to_bytes(8,byteorder=\"big\",signed=True)"
   ]
  },
  {
   "cell_type": "markdown",
   "metadata": {},
   "source": [
    "<b>Python converts integer to ASCII characters </b>"
   ]
  },
  {
   "cell_type": "code",
   "execution_count": 9,
   "metadata": {},
   "outputs": [
    {
     "data": {
      "text/plain": [
       "b'A@F'"
      ]
     },
     "execution_count": 9,
     "metadata": {},
     "output_type": "execute_result"
    }
   ],
   "source": [
    "bytes([65,64,70])"
   ]
  },
  {
   "cell_type": "markdown",
   "metadata": {},
   "source": [
    "In a 64bit system each interger takes 64bits which is equal 8bytes of memory\n"
   ]
  },
  {
   "cell_type": "markdown",
   "metadata": {},
   "source": [
    "mylist=[255,254,253,252] # this list take quatilebytes of memory, but if stored in binary will consume on 4bits of memory"
   ]
  },
  {
   "cell_type": "code",
   "execution_count": 10,
   "metadata": {},
   "outputs": [
    {
     "data": {
      "text/plain": [
       "b'\\xff\\xfe\\xfd\\xfc'"
      ]
     },
     "execution_count": 10,
     "metadata": {},
     "output_type": "execute_result"
    }
   ],
   "source": [
    "mylist=[255,254,253,252]\n",
    "bytes(mylist)"
   ]
  },
  {
   "cell_type": "markdown",
   "metadata": {},
   "source": [
    "<b>Converting Binary String to Bytes</b>\n",
    "String \"11110000-> int:240-> Bytes:xF0\n",
    "\n",
    "<table><tr><td>Base</td>\n",
    "       <td>Description</td>\n",
    "    <tr><td>Base 2:</td>  <td>Binary</td></tr>\n",
    "<tr><td>Base 8:</td>  <td>Octal</td></tr>\n",
    "<tr><td>Base 10: <td>Decimal</td></tr>\n",
    "<tr><td>Base 16: <td>Hecadecimal </td></tr>\n",
    "\n",
    "</table>"
   ]
  },
  {
   "cell_type": "code",
   "execution_count": 25,
   "metadata": {},
   "outputs": [
    {
     "data": {
      "text/plain": [
       "b'\\xf0'"
      ]
     },
     "execution_count": 25,
     "metadata": {},
     "output_type": "execute_result"
    }
   ],
   "source": [
    "s=\"11110000\"\n",
    "# Converting binary string to int requires specifying the base\n",
    "s=int(s,2)\n",
    "\n",
    "#Coverting to bytes\n",
    "s.to_bytes(1,byteorder=\"big\",signed=False)"
   ]
  },
  {
   "cell_type": "markdown",
   "metadata": {},
   "source": [
    "Alternatively"
   ]
  },
  {
   "cell_type": "code",
   "execution_count": 20,
   "metadata": {},
   "outputs": [
    {
     "data": {
      "text/plain": [
       "b'\\xf0'"
      ]
     },
     "execution_count": 20,
     "metadata": {},
     "output_type": "execute_result"
    }
   ],
   "source": [
    "s=\"11110000\"\n",
    "bytes([int(s,2)])"
   ]
  },
  {
   "cell_type": "markdown",
   "metadata": {},
   "source": [
    "<b>Converting Bytes to integer</b> Bytes:xF0->int:240\n"
   ]
  },
  {
   "cell_type": "code",
   "execution_count": 29,
   "metadata": {},
   "outputs": [],
   "source": [
    "s=b'\\xf0\\xfff\\xf0'"
   ]
  },
  {
   "cell_type": "code",
   "execution_count": 30,
   "metadata": {},
   "outputs": [
    {
     "data": {
      "text/plain": [
       "-251697424"
      ]
     },
     "execution_count": 30,
     "metadata": {},
     "output_type": "execute_result"
    }
   ],
   "source": [
    "int.from_bytes(s,byteorder='big',signed=True)"
   ]
  },
  {
   "cell_type": "markdown",
   "metadata": {},
   "source": [
    "<b>Hex or Hexdecimal is way represent number in base 16 from 0-15 and F are used to repr num from 10-15 </b>"
   ]
  },
  {
   "cell_type": "code",
   "execution_count": 2,
   "metadata": {},
   "outputs": [
    {
     "data": {
      "text/plain": [
       "b'\\xde\\xad\\xbe\\xef'"
      ]
     },
     "execution_count": 2,
     "metadata": {},
     "output_type": "execute_result"
    }
   ],
   "source": [
    "#suppose we have this complex and want to convert to bytes\n",
    "s=\"DEADBEEF\"\n",
    "import binascii\n",
    "\n",
    "binascii.unhexlify(s)"
   ]
  },
  {
   "cell_type": "markdown",
   "metadata": {},
   "source": [
    "converting  bytes to hexidecimal"
   ]
  },
  {
   "cell_type": "code",
   "execution_count": 3,
   "metadata": {},
   "outputs": [
    {
     "data": {
      "text/plain": [
       "b'ffffffff'"
      ]
     },
     "execution_count": 3,
     "metadata": {},
     "output_type": "execute_result"
    }
   ],
   "source": [
    "binascii.hexlify(bytes([255,255,255,255]))"
   ]
  },
  {
   "cell_type": "code",
   "execution_count": 9,
   "metadata": {},
   "outputs": [
    {
     "data": {
      "text/plain": [
       "b'0fff'"
      ]
     },
     "execution_count": 9,
     "metadata": {},
     "output_type": "execute_result"
    }
   ],
   "source": [
    "x=binascii.hexlify(b'\\x0f\\xff')\n",
    "x"
   ]
  },
  {
   "cell_type": "code",
   "execution_count": 12,
   "metadata": {},
   "outputs": [
    {
     "data": {
      "text/plain": [
       "'0fff'"
      ]
     },
     "execution_count": 12,
     "metadata": {},
     "output_type": "execute_result"
    }
   ],
   "source": [
    "#decoding this \n",
    "x.decode(\"ascii\")\n",
    "x.decode(\"utf8\")"
   ]
  },
  {
   "cell_type": "markdown",
   "metadata": {},
   "source": [
    " <b>Working with Files </b>\n",
    " Note when working with file \n",
    " - to overwrite and write a new file use \"wb\"\n",
    " - to append \"a+\"\n",
    " - read a file \"r\"\n",
    " - write to a file w+ this will overwrite all file if exist\n",
    " - read and write binary r+b"
   ]
  },
  {
   "cell_type": "code",
   "execution_count": 23,
   "metadata": {},
   "outputs": [],
   "source": [
    "import io\n",
    "with open(\"test.dat\",\"wb\")  as myfile:\n",
    "    myfile.write(b'\\xff\\xfe\\xfd\\xfc')\n"
   ]
  },
  {
   "cell_type": "code",
   "execution_count": 16,
   "metadata": {},
   "outputs": [
    {
     "name": "stdout",
     "output_type": "stream",
     "text": [
      "b'\\xff'\n"
     ]
    }
   ],
   "source": [
    "with open(\"test.dat\",\"rb\") as readfile:\n",
    "          #for line in readfile.read(): This will return the decode binary in int on a \\n\n",
    "           #print(readfile.read())  # this will read and return the entire binary data in the file\n",
    "            print(readfile.read(1)) # this will return specific index\n",
    "         "
   ]
  },
  {
   "cell_type": "markdown",
   "metadata": {},
   "source": [
    "### <b>Getting Meta data of a file</b>"
   ]
  },
  {
   "cell_type": "code",
   "execution_count": 5,
   "metadata": {},
   "outputs": [
    {
     "data": {
      "text/plain": [
       "True"
      ]
     },
     "execution_count": 5,
     "metadata": {},
     "output_type": "execute_result"
    }
   ],
   "source": [
    "#checking if the file exists\n",
    "import os\n",
    "\n",
    "os.path.exists(\"test.dat\")"
   ]
  },
  {
   "cell_type": "code",
   "execution_count": 6,
   "metadata": {},
   "outputs": [
    {
     "name": "stdout",
     "output_type": "stream",
     "text": [
      "4\n"
     ]
    }
   ],
   "source": [
    "# checking for the size of the file and possible exceptions\n",
    "try: \n",
    "    print(os.path.getsize(\"test.dat\"))\n",
    "except FileNotFoundError:\n",
    "    print(\"I can't find the file\")"
   ]
  },
  {
   "cell_type": "code",
   "execution_count": 7,
   "metadata": {},
   "outputs": [
    {
     "name": "stdout",
     "output_type": "stream",
     "text": [
      "[Errno 2] No such file or directory: 'tes.dat'\n"
     ]
    }
   ],
   "source": [
    "try: \n",
    "    print(os.path.getsize(\"tes.dat\"))\n",
    "except FileNotFoundError as fileerror:\n",
    "    print(fileerror)"
   ]
  },
  {
   "cell_type": "code",
   "execution_count": 8,
   "metadata": {},
   "outputs": [
    {
     "data": {
      "text/plain": [
       "os.stat_result(st_mode=33188, st_ino=12886548560, st_dev=16777220, st_nlink=1, st_uid=502, st_gid=20, st_size=4, st_atime=1610650731, st_mtime=1610650730, st_ctime=1610650730)"
      ]
     },
     "execution_count": 8,
     "metadata": {},
     "output_type": "execute_result"
    }
   ],
   "source": [
    "# checking for file owner\n",
    "os.stat('test.dat')"
   ]
  },
  {
   "cell_type": "markdown",
   "metadata": {},
   "source": [
    "- st_mode=file permissions\n",
    "- st_uid= user identifer file owner\n",
    "- st_gid= group identifer file owner\n",
    "- st_atime= Time of the most recent access in seconds\n",
    "- st_mt=time of most recent modification\n",
    "- st_ctime=in windows the time of creation expr inseconds, in mac/unix time of most recent meta data change \n",
    "- st_dev= identifier of the device on whic this file resides\n",
    "- st_size= file size in bytes"
   ]
  },
  {
   "cell_type": "markdown",
   "metadata": {},
   "source": [
    "#### Iterating over file with a WHILE  and stopping when there is nothing to return"
   ]
  },
  {
   "cell_type": "code",
   "execution_count": 20,
   "metadata": {},
   "outputs": [
    {
     "name": "stdout",
     "output_type": "stream",
     "text": [
      "b'\\xff'\n",
      "b'\\xfe'\n",
      "b'\\xfd'\n",
      "b'\\xfc'\n"
     ]
    }
   ],
   "source": [
    "f=open(\"test.dat\",\"rb\")\n",
    "bytes_read=f.read(1)\n",
    "while bytes_read:\n",
    "    print(bytes_read)\n",
    "    bytes_read=f.read(1)\n",
    "    "
   ]
  },
  {
   "cell_type": "markdown",
   "metadata": {},
   "source": [
    "#### Scenario of writing a data into file in bytes  and jumping to differrent section of the file"
   ]
  },
  {
   "cell_type": "code",
   "execution_count": 23,
   "metadata": {},
   "outputs": [],
   "source": [
    "with open(\"test1.dat\",\"wb\") as file2:\n",
    "    for i in range(255):\n",
    "        file2.write(bytes([i]))\n",
    "        \n"
   ]
  },
  {
   "cell_type": "code",
   "execution_count": 27,
   "metadata": {},
   "outputs": [
    {
     "name": "stdout",
     "output_type": "stream",
     "text": [
      "b'\\x00\\x01\\x02\\x03\\x04\\x05\\x06\\x07\\x08\\t\\n\\x0b\\x0c\\r\\x0e\\x0f\\x10\\x11\\x12\\x13\\x14\\x15\\x16\\x17\\x18\\x19\\x1a\\x1b\\x1c\\x1d\\x1e\\x1f !\"#$%&\\'()*+,-./0123456789:;<=>?@ABCDEFGHIJKLMNOPQRSTUVWXYZ[\\\\]^_`abcdefghijklmnopqrstuvwxyz{|}~\\x7f\\x80\\x81\\x82\\x83\\x84\\x85\\x86\\x87\\x88\\x89\\x8a\\x8b\\x8c\\x8d\\x8e\\x8f\\x90\\x91\\x92\\x93\\x94\\x95\\x96\\x97\\x98\\x99\\x9a\\x9b\\x9c\\x9d\\x9e\\x9f\\xa0\\xa1\\xa2\\xa3\\xa4\\xa5\\xa6\\xa7\\xa8\\xa9\\xaa\\xab\\xac\\xad\\xae\\xaf\\xb0\\xb1\\xb2\\xb3\\xb4\\xb5\\xb6\\xb7\\xb8\\xb9\\xba\\xbb\\xbc\\xbd\\xbe\\xbf\\xc0\\xc1\\xc2\\xc3\\xc4\\xc5\\xc6\\xc7\\xc8\\xc9\\xca\\xcb\\xcc\\xcd\\xce\\xcf\\xd0\\xd1\\xd2\\xd3\\xd4\\xd5\\xd6\\xd7\\xd8\\xd9\\xda\\xdb\\xdc\\xdd\\xde\\xdf\\xe0\\xe1\\xe2\\xe3\\xe4\\xe5\\xe6\\xe7\\xe8\\xe9\\xea\\xeb\\xec\\xed\\xee\\xef\\xf0\\xf1\\xf2\\xf3\\xf4\\xf5\\xf6\\xf7\\xf8\\xf9\\xfa\\xfb\\xfc\\xfd\\xfe'\n",
      "os.stat_result(st_mode=33188, st_ino=12886555662, st_dev=16777220, st_nlink=1, st_uid=502, st_gid=20, st_size=255, st_atime=1610654449, st_mtime=1610654449, st_ctime=1610654449)\n"
     ]
    }
   ],
   "source": [
    "with open(\"test1.dat\",\"rb\") as file3:\n",
    "     print(file3.read())\n",
    "     \n",
    "     print(os.stat(\"test1.dat\"))\n",
    "        \n",
    "    "
   ]
  },
  {
   "cell_type": "markdown",
   "metadata": {},
   "source": [
    "#### Seek function allows to jump around different part of the file\n",
    "-  However if we want to jump to the end of the file we have to import from os SEEk_END,SEEk_CUR , \n",
    "-  first we have to specific our starting"
   ]
  },
  {
   "cell_type": "code",
   "execution_count": 31,
   "metadata": {},
   "outputs": [
    {
     "name": "stdout",
     "output_type": "stream",
     "text": [
      "0 1\n"
     ]
    }
   ],
   "source": [
    "with open(\"test1.dat\",\"rb\") as file3:\n",
    "     print(file3.seek(0),file3.seek(1))\n",
    "        "
   ]
  },
  {
   "cell_type": "code",
   "execution_count": 36,
   "metadata": {},
   "outputs": [
    {
     "name": "stdout",
     "output_type": "stream",
     "text": [
      "255\n",
      "255\n",
      "b''\n",
      "251\n",
      "b'\\xfb\\xfc\\xfd\\xfe'\n"
     ]
    }
   ],
   "source": [
    "from os import SEEK_END,SEEK_CUR\n",
    "\n",
    "with open(\"test1.dat\",\"rb\") as file3:\n",
    "    print(file3.seek(0,SEEK_END))\n",
    " # we are doing here is moving cur to end of the data and starting from there 0-where to seek and SEEK_END- last part of the data\n",
    " # This can also be achieve with\n",
    "    print(file3.seek(0,2))\n",
    " # if we try to read the file again this will return empty becos the cursor is at the nd of file\n",
    "    print(file3.read())\n",
    "#  However we cound read backwards\n",
    "    print(file3.seek(-4,2))\n",
    "# if we try to read the file again we will get avalue\n",
    "    print(file3.read())"
   ]
  },
  {
   "cell_type": "code",
   "execution_count": null,
   "metadata": {},
   "outputs": [],
   "source": []
  }
 ],
 "metadata": {
  "kernelspec": {
   "display_name": "Python 3",
   "language": "python",
   "name": "python3"
  },
  "language_info": {
   "codemirror_mode": {
    "name": "ipython",
    "version": 3
   },
   "file_extension": ".py",
   "mimetype": "text/x-python",
   "name": "python",
   "nbconvert_exporter": "python",
   "pygments_lexer": "ipython3",
   "version": "3.8.5"
  }
 },
 "nbformat": 4,
 "nbformat_minor": 4
}

{
 "cells": [
  {
   "cell_type": "markdown",
   "metadata": {},
   "source": [
    "# CASE STUDY IS YELP DATABASE CHALLENGE"
   ]
  },
  {
   "cell_type": "code",
   "execution_count": 18,
   "metadata": {},
   "outputs": [],
   "source": [
    "import json\n",
    "from datetime import datetime"
   ]
  },
  {
   "cell_type": "code",
   "execution_count": 62,
   "metadata": {},
   "outputs": [
    {
     "name": "stdout",
     "output_type": "stream",
     "text": [
      "1968704\n"
     ]
    }
   ],
   "source": [
    "user_id_count=1\n",
    "user_id_dict=dict()\n",
    "with open(\"yelp_academic_dataset_user.json\",\"r\",encoding='utf-8') as file:\n",
    "    count=0\n",
    "    for line in file:\n",
    "        data=json.loads(line)\n",
    "        friends=data.get(\"friends\").split()\n",
    "        user_id=data.get(\"user_id\")\n",
    "        try:\n",
    "            user_id_dict[user_id]\n",
    "        except:\n",
    "            user_id_dict[user_id]=user_id_count\n",
    "            user_id_count+=1\n",
    "print(user_id_count)"
   ]
  },
  {
   "cell_type": "markdown",
   "metadata": {},
   "source": [
    "## Getting the data profiles"
   ]
  },
  {
   "cell_type": "code",
   "execution_count": null,
   "metadata": {},
   "outputs": [],
   "source": [
    "# Creating a dictionary out of the specfic data needed from the data set.\n",
    "user_id_count=1\n",
    "user_id_dict=dict()\n",
    "user_data=[]\n",
    "friends_data=[]\n",
    "with open(\"yelp_academic_dataset_user.json\",\"r\",encoding='utf-8') as file:\n",
    "    count=0\n",
    "    def chunksize(line,n):\n",
    "        for line in range(0,len(file),n):\n",
    "            data=json.loads(line)\n",
    "            user_id=data.get(\"user_id\")\n",
    "            user_friends=data.get(\"friends\").split()\n",
    "            name=data.get(\"name\")\n",
    "            average_stars=data.get(\"average_stars\")\n",
    "            review_counts=data.get(\"review_count\")\n",
    "            fans=data.get(\"fans\") \n",
    "            yelping_since=datetime.strptime(data.get(\"yelping_since\"),\"%Y-%m-%d %H:%M:%S\")\n",
    "            for i in range(len(user_friends)):\n",
    "                user_id_dict[user_friends[i]]=user_friends[i]\n",
    "                user_data.append([user_id,name,review_counts,average_stars,fans])\n",
    "                friends_data.append([user_id,user_friends])\n",
    "                yeild count+=1\n",
    "print(count)"
   ]
  },
  {
   "cell_type": "code",
   "execution_count": null,
   "metadata": {},
   "outputs": [],
   "source": []
  }
 ],
 "metadata": {
  "kernelspec": {
   "display_name": "Python 3",
   "language": "python",
   "name": "python3"
  },
  "language_info": {
   "codemirror_mode": {
    "name": "ipython",
    "version": 3
   },
   "file_extension": ".py",
   "mimetype": "text/x-python",
   "name": "python",
   "nbconvert_exporter": "python",
   "pygments_lexer": "ipython3",
   "version": "3.7.3"
  }
 },
 "nbformat": 4,
 "nbformat_minor": 4
}
